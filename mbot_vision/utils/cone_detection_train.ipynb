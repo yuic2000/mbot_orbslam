{
 "cells": [
  {
   "cell_type": "markdown",
   "metadata": {},
   "source": [
    "**Upload this file to your Google Drive and run it using [Google Colab](https://colab.research.google.com/)**"
   ]
  },
  {
   "cell_type": "markdown",
   "metadata": {},
   "source": [
    "### 1. Check if GPU is available\n",
    "If the following command doesn't work, go to Edit -> Notebook Settings -> Select GPU"
   ]
  },
  {
   "cell_type": "code",
   "execution_count": null,
   "metadata": {
    "colab": {
     "base_uri": "https://localhost:8080/"
    },
    "id": "0UQEpsFzYuxA",
    "outputId": "d5e51bca-26aa-4672-a5fd-a827819f8a75"
   },
   "outputs": [],
   "source": [
    "!nvidia-smi"
   ]
  },
  {
   "cell_type": "markdown",
   "metadata": {},
   "source": [
    "### 2. sets up and verifies the environment"
   ]
  },
  {
   "cell_type": "code",
   "execution_count": null,
   "metadata": {
    "colab": {
     "base_uri": "https://localhost:8080/"
    },
    "id": "ABt83zTBYbx-",
    "outputId": "8e02de64-ba81-4fca-fae0-402ea7e31ddc"
   },
   "outputs": [],
   "source": [
    "%pip install ultralytics supervision roboflow\n",
    "import ultralytics\n",
    "ultralytics.checks()"
   ]
  },
  {
   "cell_type": "markdown",
   "metadata": {},
   "source": [
    "### 3. Download dataset:\n",
    "1. Go to https://universe.roboflow.com/mbot-p2cui/mbot-cone-detection-o3klb/dataset/5\n",
    "2. Click \"Download Project\"\n",
    "3. Choose the format you prefer, here we use YOLOv11\n",
    "4. Click \"Show download code\" -> \"continue\"\n",
    "5. Copy the code snippet under the \"Jupyter\" tab, and paste to the block below to replace"
   ]
  },
  {
   "cell_type": "code",
   "execution_count": null,
   "metadata": {
    "colab": {
     "base_uri": "https://localhost:8080/"
    },
    "id": "CEVXjWc45isg",
    "outputId": "1d099e6f-dd63-47c1-c42c-7a623ead8509"
   },
   "outputs": [],
   "source": [
    "from roboflow import Roboflow\n",
    "rf = Roboflow(api_key=\"your key\")\n",
    "project = rf.workspace(\"mbot-p2cui\").project(\"mbot-cone-detection-o3klb\")\n",
    "version = project.version(3)\n",
    "dataset = version.download(\"yolov11\")"
   ]
  },
  {
   "cell_type": "markdown",
   "metadata": {},
   "source": [
    "### 4. Trian with your dateset:\n",
    "1. Here we use yolo11 small weights, thus `model=yolo11s.pt`\n",
    "2. replace the `data=xxxx` with your data location, open the side panel, go to \"Files\", find `data.yaml`, right click to copy path.\n",
    "\n",
    "Once it's done, check the output to see where the best weights saved, and then copy that weights to the utils folder under mbot_vision.\n",
    "Update your mbot_vision code accordingly."
   ]
  },
  {
   "cell_type": "code",
   "execution_count": null,
   "metadata": {
    "colab": {
     "base_uri": "https://localhost:8080/"
    },
    "id": "8Vzlsk4A5-RB",
    "outputId": "437808d7-a917-4ac9-a575-c5f981edeef3"
   },
   "outputs": [],
   "source": [
    "# Train with yolo11n model, replace it with the model you want to train\n",
    "# replace: data=<path-to-your-data.yaml>\n",
    "!yolo task=detect mode=train model=yolo11s.pt data=/content/MBot-Cone-Detection-3/data.yaml epochs=30 imgsz=640 plots=True"
   ]
  }
 ],
 "metadata": {
  "accelerator": "GPU",
  "colab": {
   "gpuType": "T4",
   "provenance": []
  },
  "kernelspec": {
   "display_name": "Python 3",
   "name": "python3"
  },
  "language_info": {
   "name": "python"
  }
 },
 "nbformat": 4,
 "nbformat_minor": 0
}
